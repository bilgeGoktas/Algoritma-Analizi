{
 "cells": [
  {
   "cell_type": "code",
   "execution_count": 1,
   "metadata": {
    "collapsed": false
   },
   "outputs": [
    {
     "data": {
      "image/png": "[encoded data removed]",
      "text/plain": [
       "<matplotlib.figure.Figure at 0x5f3db00>"
      ]
     },
     "metadata": {},
     "output_type": "display_data"
    }
   ],
   "source": [
    "import numpy as np\n",
    "import os\n",
    "import random\n",
    "import pylab as pl\n",
    "#Kmeans clustering\n",
    "#rasgele tablo baþlatýlýyor\n",
    "#matplotlib kullanýldý\n",
    "\n",
    "def kmeans(data, k):\n",
    "    centroids = []\n",
    "    centroids = createCentroids(data, centroids, k)\n",
    "    previous = [[] for i in range(k)]\n",
    "    iterations = 0\n",
    "    while not (checkConvergence(centroids, previous, iterations)):\n",
    "        iterations += 1\n",
    "        clusters = [[] for i in range(k)]\n",
    "        clusters = distance(data, centroids, clusters)\n",
    "        index = 0\n",
    "        for cluster in clusters:\n",
    "            previous[index] = centroids[index]\n",
    "            centroids[index] = np.mean(cluster, axis=0).tolist()\n",
    "            index += 1\n",
    "    for cluster in clusters:\n",
    "        np.array(cluster).tolist()\n",
    "    return centroids, clusters\n",
    "\n",
    "def distance(data, centroids, clusters):\n",
    "    for instance in data:\n",
    "        mu_index = min([(i[0], np.linalg.norm(instance-centroids[i[0]])) \\\n",
    "                            for i in enumerate(centroids)], key=lambda t:t[1])[0]\n",
    "        try:\n",
    "            clusters[mu_index].append(instance)\n",
    "        except KeyError:\n",
    "            clusters[mu_index] = [instance]\n",
    "    for cluster in clusters:\n",
    "        if not cluster:\n",
    "            cluster.append(data[np.random.randint(0, len(data), size=1)].flatten().tolist())\n",
    "\n",
    "    return clusters\n",
    "\n",
    "def createCentroids(data, centroids, k):\n",
    "    for cluster in range(0, k):\n",
    "        centroids.append(data[np.random.randint(0, len(data), size=1)].flatten().tolist())\n",
    "    return centroids\n",
    "\n",
    "def checkConvergence(centroids, previous, iterations):\n",
    "    return previous == centroids or iterations > 100\n",
    "\n",
    "def create(N, x , y):\n",
    "    X = np.array([(random.uniform(-1, 1)*x, random.uniform(-1, 1) *y) for i in range(N)])\n",
    "    return X\n",
    "\n",
    "def graph(N, K, x, y):\n",
    "    centroids, clusters = kmeans(create(N, x, y), K)\n",
    "    count = 0\n",
    "    for cluster in clusters:\n",
    "        centx = centroids[count][0]\n",
    "        centy = centroids[count][1]\n",
    "        x = []\n",
    "        y = []\n",
    "        for coord in cluster:\n",
    "            x.append(coord[0])\n",
    "            y.append(coord[1])\n",
    "        color = ['b', 'g', 'r', 'c', 'm', 'y', 'k']\n",
    "        pl.plot(x, y, color[count%7] +'s')\n",
    "        pl.plot(centx, centy, color[count%7] + 'D')\n",
    "        count = count + 1\n",
    "    pl.show()\n",
    "XWIDTH = 100\n",
    "YWIDTH = 100\n",
    "clusters = 20\n",
    "points = 200\n",
    "graph(points, clusters, XWIDTH, YWIDTH)"
   ]
  },
  {
   "cell_type": "code",
   "execution_count": null,
   "metadata": {
    "collapsed": true
   },
   "outputs": [],
   "source": []
  }
 ],
 "metadata": {
  "anaconda-cloud": {},
  "kernelspec": {
   "display_name": "Python [default]",
   "language": "python",
   "name": "python2"
  },
  "language_info": {
   "codemirror_mode": {
    "name": "ipython",
    "version": 2
   },
   "file_extension": ".py",
   "mimetype": "text/x-python",
   "name": "python",
   "nbconvert_exporter": "python",
   "pygments_lexer": "ipython2",
   "version": "2.7.12"
  }
 },
 "nbformat": 4,
 "nbformat_minor": 1
}
