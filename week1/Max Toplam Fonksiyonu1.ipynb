{
 "cells": [
  {
   "cell_type": "code",
   "execution_count": 5,
   "metadata": {
    "collapsed": false
   },
   "outputs": [],
   "source": [
    "def maxSum1(vector):\n",
    "    maxSum=0\n",
    "    for i in range((len(vector))):\n",
    "        \n",
    "        for j in range(i,len(vector)):\n",
    "            thisSum=0\n",
    "            for k in range(i,j):\n",
    "                thisSum=thisSum+myarray[k]\n",
    "                if (thisSum>maxSum):\n",
    "                    maxSum=thisSum\n",
    "    return maxSum"
   ]
  },
  {
   "cell_type": "code",
   "execution_count": 6,
   "metadata": {
    "collapsed": false
   },
   "outputs": [
    {
     "name": "stdout",
     "output_type": "stream",
     "text": [
      "11\n"
     ]
    }
   ],
   "source": [
    "myarray=[4, -3, 5, -2, -1, 2, 6,-2]\n",
    "print(maxSum1(myarray))"
   ]
  },
  {
   "cell_type": "code",
   "execution_count": null,
   "metadata": {
    "collapsed": true
   },
   "outputs": [],
   "source": []
  }
 ],
 "metadata": {
  "anaconda-cloud": {},
  "kernelspec": {
   "display_name": "Python [default]",
   "language": "python",
   "name": "python2"
  },
  "language_info": {
   "codemirror_mode": {
    "name": "ipython",
    "version": 2
   },
   "file_extension": ".py",
   "mimetype": "text/x-python",
   "name": "python",
   "nbconvert_exporter": "python",
   "pygments_lexer": "ipython2",
   "version": "2.7.12"
  }
 },
 "nbformat": 4,
 "nbformat_minor": 1
}
